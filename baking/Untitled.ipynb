{
 "cells": [
  {
   "cell_type": "code",
   "execution_count": 5,
   "metadata": {},
   "outputs": [],
   "source": [
    "from tables import tables, Food, Recipe, Review\n",
    "from database import Database \n"
   ]
  },
  {
   "cell_type": "code",
   "execution_count": 6,
   "metadata": {},
   "outputs": [],
   "source": [
    "db = Database()\n",
    "session = db.Session()\n"
   ]
  },
  {
   "cell_type": "code",
   "execution_count": 7,
   "metadata": {},
   "outputs": [],
   "source": [
    "food = Food(name=\"Chocolate Chip Cookies\")\n",
    "session.add(food)\n",
    "session.commit()\n",
    "session.close()"
   ]
  },
  {
   "cell_type": "code",
   "execution_count": 8,
   "metadata": {},
   "outputs": [],
   "source": [
    "directions = \\\n",
    "\"<ol> <li>Preheat Oven to 435</li> <li>Brown Butter in pan</li> <li>Mix Butter, Syrup and Sugars (green)</li>\"+\\\n",
    "\"<li>Beat in Eggs and Vanilla (YELLOW) until Fluffy</li> <li>Mix Dry Ingredients (BLUE) in seperate bowl</li>\"+\\\n",
    "\"<li>Add Chocolate Chips (RED)</li> <li>Mix Two Bowls</li> <li>Bake for 7 Minutes</li> </ol>\"\n",
    "\n",
    "ingredients = \\\n",
    "\"<ul> <li>Salted Butter | 1 Cup</li> <li>White Sugar | 1/3 Cup</li> <li>Brown Sugar | 1 Cup (packed)</li> \"+\\\n",
    "\"<li>Maple syrup | 1/3 cup</li> <li>Flour | 3. Cups</li> <li>Baking Soda | 0.5 TSP</li>\"+\\\n",
    "\"<li>Baking Powder | 0.5 TSP</li> <li>Sea Salt | 1.75 TSP</li> <li>Vanilla Extract | 2.5 TSP</li>\"+\\\n",
    "\"<li>Large Eggs | 2 eggs</li> <li>Chocolate Chips | 2 Cups</li> </ul>\"\n",
    "\n",
    "directions = \"test\"\n",
    "ingredients = \"test2\"\n",
    "\n",
    "db.add_recipe(4, \"current standard\", directions, \"I also need to freeze the batter between batches\", ingredients)\n"
   ]
  },
  {
   "cell_type": "code",
   "execution_count": 9,
   "metadata": {},
   "outputs": [],
   "source": [
    "db.add_review(recipe_id=1, reviewer_name=\"Max\", taste=5, texture=5, appearance=5, overall=5, comments=\"I'm the best\")"
   ]
  },
  {
   "cell_type": "code",
   "execution_count": null,
   "metadata": {},
   "outputs": [],
   "source": []
  }
 ],
 "metadata": {
  "kernelspec": {
   "display_name": "Python 3",
   "language": "python",
   "name": "python3"
  },
  "language_info": {
   "codemirror_mode": {
    "name": "ipython",
    "version": 3
   },
   "file_extension": ".py",
   "mimetype": "text/x-python",
   "name": "python",
   "nbconvert_exporter": "python",
   "pygments_lexer": "ipython3",
   "version": "3.7.4"
  }
 },
 "nbformat": 4,
 "nbformat_minor": 2
}
